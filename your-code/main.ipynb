{
  "cells": [
    {
      "cell_type": "markdown",
      "metadata": {
        "id": "RR2Qt9g2xlcN"
      },
      "source": [
        "# Git Lab"
      ]
    },
    {
      "cell_type": "markdown",
      "metadata": {
        "id": "5HU25oxlvD75"
      },
      "source": [
        "### 1. Change the following function to print \"Hello world, from < yourname >\""
      ]
    },
    {
      "cell_type": "code",
      "execution_count": 3,
      "metadata": {
        "id": "Q-7_OfPG38WX",
        "colab": {
          "base_uri": "https://localhost:8080/"
        },
        "outputId": "6c6483f3-f811-460e-bb19-e37c387aa8ac"
      },
      "outputs": [
        {
          "output_type": "stream",
          "name": "stdout",
          "text": [
            "Hello world from Aferdita\n"
          ]
        }
      ],
      "source": [
        "print(\"Hello world from Aferdita\")"
      ]
    }
  ],
  "metadata": {
    "colab": {
      "collapsed_sections": [],
      "provenance": []
    },
    "kernelspec": {
      "display_name": "Python 3 (ipykernel)",
      "language": "python",
      "name": "python3"
    },
    "language_info": {
      "codemirror_mode": {
        "name": "ipython",
        "version": 3
      },
      "file_extension": ".py",
      "mimetype": "text/x-python",
      "name": "python",
      "nbconvert_exporter": "python",
      "pygments_lexer": "ipython3",
      "version": "3.7.11"
    }
  },
  "nbformat": 4,
  "nbformat_minor": 0
}